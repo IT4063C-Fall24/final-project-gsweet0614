{
 "cells": [
  {
   "cell_type": "code",
   "execution_count": 14,
   "metadata": {},
   "outputs": [
    {
     "ename": "SyntaxError",
     "evalue": "(unicode error) 'unicodeescape' codec can't decode bytes in position 2-3: truncated \\UXXXXXXXX escape (2928637682.py, line 20)",
     "output_type": "error",
     "traceback": [
      "\u001b[1;36m  Cell \u001b[1;32mIn[14], line 20\u001b[1;36m\u001b[0m\n\u001b[1;33m    df = pd.read_csv('C:\\Users\\gages\\OneDrive\\Desktop\\GitHub\\final-project-gsweet0614\\social-media.csv')\u001b[0m\n\u001b[1;37m                                                                                                       ^\u001b[0m\n\u001b[1;31mSyntaxError\u001b[0m\u001b[1;31m:\u001b[0m (unicode error) 'unicodeescape' codec can't decode bytes in position 2-3: truncated \\UXXXXXXXX escape\n"
     ]
    }
   ],
   "source": [
    "# Topic: The problem I am attempting to address is what is causing social media related anxiety. That problem is important because mental health of especially younger people seems\n",
    "# to be more and more of an issue over time.\n",
    "\n",
    "#Project Questions: \n",
    "\n",
    "# 1. Is age a factor with social media usage?\n",
    "\n",
    "# 2. Is amount of time spent on social media mental health related?\n",
    "\n",
    "#What would an answer look like: In people within x age gap, with x amount of time spent on social media, social media is causing a increase/decrease/no change in mental health\n",
    "\n",
    "\n",
    "#The data sources I have identified for this project are all linked here\n",
    "#https://www.kaggle.com/datasets/sahasourav17/students-anxiety-and-depression-dataset/data (xslx)\n",
    "#https://www.kaggle.com/datasets/muhammadroshaanriaz/time-wasters-on-social-media (csv)\n",
    "#https://www.kaggle.com/datasets/hanaksoy/social-media-analysis (csv)\n",
    "\n",
    "import pandas as pd\n",
    "\n",
    "df = pd.read_csv('social-media.csv')\n",
    "\n",
    "print(df.to_string()) "
   ]
  }
 ],
 "metadata": {
  "kernelspec": {
   "display_name": "base",
   "language": "python",
   "name": "python3"
  },
  "language_info": {
   "codemirror_mode": {
    "name": "ipython",
    "version": 3
   },
   "file_extension": ".py",
   "mimetype": "text/x-python",
   "name": "python",
   "nbconvert_exporter": "python",
   "pygments_lexer": "ipython3",
   "version": "3.11.9"
  }
 },
 "nbformat": 4,
 "nbformat_minor": 2
}
