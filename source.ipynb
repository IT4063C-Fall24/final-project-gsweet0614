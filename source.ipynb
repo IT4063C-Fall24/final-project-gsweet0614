{
 "cells": [
  {
   "attachments": {},
   "cell_type": "markdown",
   "metadata": {},
   "source": [
    "# {Project Title}📝\n",
    "\n",
    "![Banner](./assets/banner.jpeg)"
   ]
  },
  {
   "attachments": {},
   "cell_type": "markdown",
   "metadata": {},
   "source": [
    "## Topic\n",
    "*What problem are you (or your stakeholder) trying to address?*\n",
    "📝 <!-- Answer Below -->\n",
    "\n",
    "How can we begin to solve the rising depression issue within the younger generations when it relates to social media."
   ]
  },
  {
   "attachments": {},
   "cell_type": "markdown",
   "metadata": {},
   "source": [
    "## Project Question\n",
    "*What specific question are you seeking to answer with this project?*\n",
    "*This is not the same as the questions you ask to limit the scope of the project.*\n",
    "📝 <!-- Answer Below -->\n",
    "\n",
    "How is social media affecting mental health among teenagers and millenials?"
   ]
  },
  {
   "attachments": {},
   "cell_type": "markdown",
   "metadata": {},
   "source": [
    "## What would an answer look like?\n",
    "*What is your hypothesized answer to your question?*\n",
    "📝 <!-- Answer Below -->\n",
    "\n",
    "In people within x age gap, with x amount of time spent on social media, social media is causing a increase/decrease/no change in mental health"
   ]
  },
  {
   "attachments": {},
   "cell_type": "markdown",
   "metadata": {},
   "source": [
    "## Data Sources\n",
    "*What 3 data sources have you identified for this project?*\n",
    "*How are you going to relate these datasets?*\n",
    "📝 <!-- Answer Below -->\n",
    "\n",
    "The data sources I have identified for this project are all linked here\n",
    "\"Impact of Social Media\" https://www.kaggle.com/datasets/lastman0800/impact-of-social-media-dataset (xslx)\n",
    "\"Time Wasters on Social Media\" https://www.kaggle.com/datasets/muhammadroshaanriaz/time-wasters-on-social-media (csv)\n",
    "\"Social Media Analysis\" https://www.kaggle.com/datasets/hanaksoy/social-media-analysis (csv)\n",
    "\n",
    "Each dataset has it's own benefits, impact of social media focuses more on usage duration among different age gaps in different countries, while Time Wasters on Social Media has more in depth stuff, like does the person own property, income, etc. which can be affected by social media usage, while Social Media Analysis actually shows if someone made a purchase decision based off of an ad they saw on the internet, which can affect your pocketbook, which can affect your mental health. All of these datasets have very unique ways of looking at it which will be cool to tie together and see how they form."
   ]
  },
  {
   "attachments": {},
   "cell_type": "markdown",
   "metadata": {},
   "source": [
    "## Approach and Analysis\n",
    "*What is your approach to answering your project question?*\n",
    "*How will you use the identified data to answer your project question?*\n",
    "📝 <!-- Start Discussing the project here; you can add as many code cells as you need -->"
   ]
  },
  {
   "cell_type": "code",
   "execution_count": 1,
   "metadata": {},
   "outputs": [
    {
     "name": "stdout",
     "output_type": "stream",
     "text": [
      "    UserId  UsageDuraiton  Age       Country  TotalLikes\n",
      "0        1              2   55        Turkey           5\n",
      "1        2              6   45        Canada          10\n",
      "2        3              3   50       Ireland           7\n",
      "3        4              4   35  South Africa           5\n",
      "4        5              1   58        Turkey           2\n",
      "..     ...            ...  ...           ...         ...\n",
      "58      58              2   51        Turkey           1\n",
      "59      59              8   19       Germany          15\n",
      "60      60              2   20      Bulgaria           4\n",
      "61      61              9   18       Germany          18\n",
      "62      62              2   52        Panama           2\n",
      "\n",
      "[63 rows x 5 columns]\n",
      "     UserID  Age  Gender       Location  Income   Debt  Owns Property  \\\n",
      "0         1   56    Male       Pakistan   82812   True           True   \n",
      "1         2   46  Female         Mexico   27999  False           True   \n",
      "2         3   32  Female  United States   42436  False           True   \n",
      "3         4   60    Male         Barzil   62963   True          False   \n",
      "4         5   25    Male       Pakistan   22096  False           True   \n",
      "..      ...  ...     ...            ...     ...    ...            ...   \n",
      "995     996   22    Male          India   74254   True           True   \n",
      "996     997   40  Female       Pakistan   27006  False          False   \n",
      "997     998   27    Male          India   94218   True           True   \n",
      "998     999   61    Male       Pakistan   85344   True          False   \n",
      "999    1000   19    Male          India   53840   True           True   \n",
      "\n",
      "        Profession Demographics   Platform  ...  ProductivityLoss  \\\n",
      "0         Engineer        Rural  Instagram  ...                 3   \n",
      "1           Artist        Urban  Instagram  ...                 5   \n",
      "2         Engineer        Rural   Facebook  ...                 6   \n",
      "3    Waiting staff        Rural    YouTube  ...                 3   \n",
      "4          Manager        Urban     TikTok  ...                 8   \n",
      "..             ...          ...        ...  ...               ...   \n",
      "995       Students        Rural     TikTok  ...                 9   \n",
      "996  Waiting staff        Urban   Facebook  ...                 8   \n",
      "997  Waiting staff        Rural     TikTok  ...                 9   \n",
      "998       Students        Urban    YouTube  ...                 3   \n",
      "999         driver        Urban    YouTube  ...                 6   \n",
      "\n",
      "     Satisfaction     Watch Reason  DeviceType       OS  Watch Time  \\\n",
      "0               7  Procrastination  Smartphone  Android     9:00 PM   \n",
      "1               5            Habit    Computer  Android     5:00 PM   \n",
      "2               4    Entertainment      Tablet  Android     2:00 PM   \n",
      "3               7            Habit  Smartphone  Android     9:00 PM   \n",
      "4               2          Boredom  Smartphone      iOS     8:00 AM   \n",
      "..            ...              ...         ...      ...         ...   \n",
      "995             1  Procrastination  Smartphone      iOS     5:45 PM   \n",
      "996             2          Boredom  Smartphone    MacOS    10:15 PM   \n",
      "997             1  Procrastination  Smartphone      iOS    10:15 PM   \n",
      "998             7  Procrastination  Smartphone    MacOS    10:15 PM   \n",
      "999             4  Procrastination  Smartphone  Android     4:25 PM   \n",
      "\n",
      "     Self Control  Addiction Level  CurrentActivity  ConnectionType  \n",
      "0               5                5        Commuting     Mobile Data  \n",
      "1               7                3        At school           Wi-Fi  \n",
      "2               8                2          At home     Mobile Data  \n",
      "3               5                5        Commuting     Mobile Data  \n",
      "4              10                0          At home     Mobile Data  \n",
      "..            ...              ...              ...             ...  \n",
      "995            10                0          At work     Mobile Data  \n",
      "996            10                0          At home     Mobile Data  \n",
      "997            10                0        Commuting     Mobile Data  \n",
      "998             5                5          At work           Wi-Fi  \n",
      "999             8                2          At home     Mobile Data  \n",
      "\n",
      "[1000 rows x 31 columns]\n",
      "<class 'pandas.core.frame.DataFrame'>\n",
      "RangeIndex: 300 entries, 0 to 299\n",
      "Data columns (total 15 columns):\n",
      " #   Column                          Non-Null Count  Dtype  \n",
      "---  ------                          --------------  -----  \n",
      " 0   Consumer ID                     300 non-null    int64  \n",
      " 1   Customer Name                   300 non-null    object \n",
      " 2   Age                             300 non-null    int64  \n",
      " 3   Gender                          300 non-null    object \n",
      " 4   Income (USD)                    300 non-null    int64  \n",
      " 5   Education Level                 300 non-null    object \n",
      " 6   Social Media Usage (Hours/Day)  300 non-null    float64\n",
      " 7   Social Media Platforms          300 non-null    object \n",
      " 8   Influence Level                 300 non-null    object \n",
      " 9   Purchase_Decision               300 non-null    object \n",
      " 10  Product Category                285 non-null    object \n",
      " 11  Specific Product                285 non-null    object \n",
      " 12  Amount Spent (USD)              300 non-null    int64  \n",
      " 13  Brand Name                      285 non-null    object \n",
      " 14  City                            300 non-null    object \n",
      "dtypes: float64(1), int64(4), object(10)\n",
      "memory usage: 35.3+ KB\n",
      "None\n"
     ]
    }
   ],
   "source": [
    "# Start your code here\n",
    "\n",
    "import pandas as pd\n",
    "\n",
    "df = pd.read_csv('social-media.csv')\n",
    "\n",
    "print(df)\n",
    "\n",
    "df2 = pd.read_csv('Time-Wasters on Social Media.csv')\n",
    "\n",
    "print(df2)\n",
    "\n",
    "#Seaborn or MatPlotLib didn't want to seem to play nice with Excel, so I converted the Excel file to a CSV.\n",
    "\n",
    "df3 = pd.read_excel('Social Meida Dataset.xlsx')\n",
    "\n",
    "df3.to_csv ('Social Media Excel Dataset', index = None, header=True)\n",
    "\n",
    "df3_csv = pd.read_csv('Social Media Excel Dataset.csv')\n",
    "\n",
    "print(df3_csv.info())\n"
   ]
  },
  {
   "attachments": {},
   "cell_type": "markdown",
   "metadata": {},
   "source": [
    "## Resources and References\n",
    "*What resources and references have you used for this project?*\n",
    "📝 <!-- Answer Below -->\n",
    "\n",
    "Kaggle"
   ]
  },
  {
   "cell_type": "code",
   "execution_count": 2,
   "metadata": {},
   "outputs": [
    {
     "name": "stdout",
     "output_type": "stream",
     "text": [
      "[NbConvertApp] Converting notebook source.ipynb to python\n",
      "[NbConvertApp] Writing 1261 bytes to source.py\n"
     ]
    }
   ],
   "source": [
    "# ⚠️ Make sure you run this cell at the end of your notebook before every submission!\n",
    "!jupyter nbconvert --to python source.ipynb"
   ]
  }
 ],
 "metadata": {
  "kernelspec": {
   "display_name": "base",
   "language": "python",
   "name": "python3"
  },
  "language_info": {
   "codemirror_mode": {
    "name": "ipython",
    "version": 3
   },
   "file_extension": ".py",
   "mimetype": "text/x-python",
   "name": "python",
   "nbconvert_exporter": "python",
   "pygments_lexer": "ipython3",
   "version": "3.11.7"
  },
  "orig_nbformat": 4
 },
 "nbformat": 4,
 "nbformat_minor": 2
}
